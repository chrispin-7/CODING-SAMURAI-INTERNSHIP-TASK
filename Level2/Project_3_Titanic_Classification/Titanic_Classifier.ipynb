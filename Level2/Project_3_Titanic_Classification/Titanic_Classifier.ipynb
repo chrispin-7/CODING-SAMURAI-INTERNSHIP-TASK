{
 "cells": [
  {
   "cell_type": "markdown",
   "id": "16839561",
   "metadata": {},
   "source": [
    "# 🚢 Titanic Survival Prediction - Classification Model\n",
    "In this project, I use the classic Titanic dataset to build a classification model that predicts whether a passenger survived or not based on features like age, sex, ticket class, and more.\n",
    "\n",
    "This is part of my Coding Samurai Data Science Internship - Project 3."
   ]
  },
  {
   "cell_type": "markdown",
   "id": "20847057",
   "metadata": {},
   "source": [
    "## 📥 Importing Libraries and Loading the Dataset\n",
    "We'll load the Titanic dataset from Kaggle and start exploring the structure."
   ]
  },
  {
   "cell_type": "code",
   "execution_count": 69,
   "id": "39b88a15",
   "metadata": {},
   "outputs": [
    {
     "data": {
      "text/html": [
       "<div>\n",
       "<style scoped>\n",
       "    .dataframe tbody tr th:only-of-type {\n",
       "        vertical-align: middle;\n",
       "    }\n",
       "\n",
       "    .dataframe tbody tr th {\n",
       "        vertical-align: top;\n",
       "    }\n",
       "\n",
       "    .dataframe thead th {\n",
       "        text-align: right;\n",
       "    }\n",
       "</style>\n",
       "<table border=\"1\" class=\"dataframe\">\n",
       "  <thead>\n",
       "    <tr style=\"text-align: right;\">\n",
       "      <th></th>\n",
       "      <th>PassengerId</th>\n",
       "      <th>Survived</th>\n",
       "      <th>Pclass</th>\n",
       "      <th>Name</th>\n",
       "      <th>Sex</th>\n",
       "      <th>Age</th>\n",
       "      <th>SibSp</th>\n",
       "      <th>Parch</th>\n",
       "      <th>Ticket</th>\n",
       "      <th>Fare</th>\n",
       "      <th>Cabin</th>\n",
       "      <th>Embarked</th>\n",
       "    </tr>\n",
       "  </thead>\n",
       "  <tbody>\n",
       "    <tr>\n",
       "      <th>0</th>\n",
       "      <td>1</td>\n",
       "      <td>0</td>\n",
       "      <td>3</td>\n",
       "      <td>Braund, Mr. Owen Harris</td>\n",
       "      <td>male</td>\n",
       "      <td>22.0</td>\n",
       "      <td>1</td>\n",
       "      <td>0</td>\n",
       "      <td>A/5 21171</td>\n",
       "      <td>7.2500</td>\n",
       "      <td>NaN</td>\n",
       "      <td>S</td>\n",
       "    </tr>\n",
       "    <tr>\n",
       "      <th>1</th>\n",
       "      <td>2</td>\n",
       "      <td>1</td>\n",
       "      <td>1</td>\n",
       "      <td>Cumings, Mrs. John Bradley (Florence Briggs Th...</td>\n",
       "      <td>female</td>\n",
       "      <td>38.0</td>\n",
       "      <td>1</td>\n",
       "      <td>0</td>\n",
       "      <td>PC 17599</td>\n",
       "      <td>71.2833</td>\n",
       "      <td>C85</td>\n",
       "      <td>C</td>\n",
       "    </tr>\n",
       "    <tr>\n",
       "      <th>2</th>\n",
       "      <td>3</td>\n",
       "      <td>1</td>\n",
       "      <td>3</td>\n",
       "      <td>Heikkinen, Miss. Laina</td>\n",
       "      <td>female</td>\n",
       "      <td>26.0</td>\n",
       "      <td>0</td>\n",
       "      <td>0</td>\n",
       "      <td>STON/O2. 3101282</td>\n",
       "      <td>7.9250</td>\n",
       "      <td>NaN</td>\n",
       "      <td>S</td>\n",
       "    </tr>\n",
       "    <tr>\n",
       "      <th>3</th>\n",
       "      <td>4</td>\n",
       "      <td>1</td>\n",
       "      <td>1</td>\n",
       "      <td>Futrelle, Mrs. Jacques Heath (Lily May Peel)</td>\n",
       "      <td>female</td>\n",
       "      <td>35.0</td>\n",
       "      <td>1</td>\n",
       "      <td>0</td>\n",
       "      <td>113803</td>\n",
       "      <td>53.1000</td>\n",
       "      <td>C123</td>\n",
       "      <td>S</td>\n",
       "    </tr>\n",
       "    <tr>\n",
       "      <th>4</th>\n",
       "      <td>5</td>\n",
       "      <td>0</td>\n",
       "      <td>3</td>\n",
       "      <td>Allen, Mr. William Henry</td>\n",
       "      <td>male</td>\n",
       "      <td>35.0</td>\n",
       "      <td>0</td>\n",
       "      <td>0</td>\n",
       "      <td>373450</td>\n",
       "      <td>8.0500</td>\n",
       "      <td>NaN</td>\n",
       "      <td>S</td>\n",
       "    </tr>\n",
       "  </tbody>\n",
       "</table>\n",
       "</div>"
      ],
      "text/plain": [
       "   PassengerId  Survived  Pclass  \\\n",
       "0            1         0       3   \n",
       "1            2         1       1   \n",
       "2            3         1       3   \n",
       "3            4         1       1   \n",
       "4            5         0       3   \n",
       "\n",
       "                                                Name     Sex   Age  SibSp  \\\n",
       "0                            Braund, Mr. Owen Harris    male  22.0      1   \n",
       "1  Cumings, Mrs. John Bradley (Florence Briggs Th...  female  38.0      1   \n",
       "2                             Heikkinen, Miss. Laina  female  26.0      0   \n",
       "3       Futrelle, Mrs. Jacques Heath (Lily May Peel)  female  35.0      1   \n",
       "4                           Allen, Mr. William Henry    male  35.0      0   \n",
       "\n",
       "   Parch            Ticket     Fare Cabin Embarked  \n",
       "0      0         A/5 21171   7.2500   NaN        S  \n",
       "1      0          PC 17599  71.2833   C85        C  \n",
       "2      0  STON/O2. 3101282   7.9250   NaN        S  \n",
       "3      0            113803  53.1000  C123        S  \n",
       "4      0            373450   8.0500   NaN        S  "
      ]
     },
     "execution_count": 69,
     "metadata": {},
     "output_type": "execute_result"
    }
   ],
   "source": [
    "import pandas as pd\n",
    "import numpy as np\n",
    "import matplotlib.pyplot as plt\n",
    "import seaborn as sns\n",
    "\n",
    "df = pd.read_csv(\"train.csv\")\n",
    "df.head()"
   ]
  },
  {
   "cell_type": "markdown",
   "id": "63caf0d7",
   "metadata": {},
   "source": [
    "## 📊 Data Overview\n",
    "Let's check the structure of the dataset, missing values, and data types."
   ]
  },
  {
   "cell_type": "code",
   "execution_count": 70,
   "id": "3e94cc36",
   "metadata": {},
   "outputs": [
    {
     "name": "stdout",
     "output_type": "stream",
     "text": [
      "<class 'pandas.core.frame.DataFrame'>\n",
      "RangeIndex: 891 entries, 0 to 890\n",
      "Data columns (total 12 columns):\n",
      " #   Column       Non-Null Count  Dtype  \n",
      "---  ------       --------------  -----  \n",
      " 0   PassengerId  891 non-null    int64  \n",
      " 1   Survived     891 non-null    int64  \n",
      " 2   Pclass       891 non-null    int64  \n",
      " 3   Name         891 non-null    object \n",
      " 4   Sex          891 non-null    object \n",
      " 5   Age          714 non-null    float64\n",
      " 6   SibSp        891 non-null    int64  \n",
      " 7   Parch        891 non-null    int64  \n",
      " 8   Ticket       891 non-null    object \n",
      " 9   Fare         891 non-null    float64\n",
      " 10  Cabin        204 non-null    object \n",
      " 11  Embarked     889 non-null    object \n",
      "dtypes: float64(2), int64(5), object(5)\n",
      "memory usage: 83.7+ KB\n"
     ]
    },
    {
     "data": {
      "text/plain": [
       "PassengerId      0\n",
       "Survived         0\n",
       "Pclass           0\n",
       "Name             0\n",
       "Sex              0\n",
       "Age            177\n",
       "SibSp            0\n",
       "Parch            0\n",
       "Ticket           0\n",
       "Fare             0\n",
       "Cabin          687\n",
       "Embarked         2\n",
       "dtype: int64"
      ]
     },
     "execution_count": 70,
     "metadata": {},
     "output_type": "execute_result"
    }
   ],
   "source": [
    "df.info()\n",
    "df.describe()\n",
    "df.isnull().sum()"
   ]
  },
  {
   "cell_type": "markdown",
   "id": "f5ea3925",
   "metadata": {},
   "source": [
    "## 🔍 Exploratory Data Analysis\n",
    "Let’s explore survival rates based on different features to understand important patterns."
   ]
  },
  {
   "cell_type": "code",
   "execution_count": 71,
   "id": "94efc41b",
   "metadata": {},
   "outputs": [
    {
     "data": {
      "image/png": "[encoded data removed]",
      "text/plain": [
       "<Figure size 640x480 with 1 Axes>"
      ]
     },
     "metadata": {},
     "output_type": "display_data"
    }
   ],
   "source": [
    "sns.countplot(x='Survived', data=df)\n",
    "plt.title(\"Survival Count\")\n",
    "plt.show()"
   ]
  },
  {
   "cell_type": "code",
   "execution_count": 72,
   "id": "5c0f0486",
   "metadata": {},
   "outputs": [
    {
     "data": {
      "image/png": "[encoded data removed]",
      "text/plain": [
       "<Figure size 640x480 with 1 Axes>"
      ]
     },
     "metadata": {},
     "output_type": "display_data"
    }
   ],
   "source": [
    "sns.countplot(x='Survived', hue='Sex', data=df)\n",
    "plt.title(\"Survival by Gender\")\n",
    "plt.show()"
   ]
  },
  {
   "cell_type": "code",
   "execution_count": 73,
   "id": "257d5e8c",
   "metadata": {},
   "outputs": [
    {
     "data": {
      "image/png": "[encoded data removed]",
      "text/plain": [
       "<Figure size 640x480 with 1 Axes>"
      ]
     },
     "metadata": {},
     "output_type": "display_data"
    }
   ],
   "source": [
    "sns.countplot(x='Survived', hue='Pclass', data=df)\n",
    "plt.title(\"Survival by Passenger Class\")\n",
    "plt.show()"
   ]
  },
  {
   "cell_type": "markdown",
   "id": "221fbf36",
   "metadata": {},
   "source": [
    "## 📈 Age and Fare Distributions\n",
    "We’ll visualize continuous features to understand their spread and potential impact on survival."
   ]
  },
  {
   "cell_type": "code",
   "execution_count": 74,
   "id": "ce2d423c",
   "metadata": {},
   "outputs": [
    {
     "data": {
      "image/png": "[encoded data removed]",
      "text/plain": [
       "<Figure size 640x480 with 1 Axes>"
      ]
     },
     "metadata": {},
     "output_type": "display_data"
    },
    {
     "data": {
      "image/png": "[encoded data removed]",
      "text/plain": [
       "<Figure size 640x480 with 1 Axes>"
      ]
     },
     "metadata": {},
     "output_type": "display_data"
    }
   ],
   "source": [
    "df['Age'].hist(bins=30, color='skyblue')\n",
    "plt.title(\"Age Distribution\")\n",
    "plt.xlabel(\"Age\")\n",
    "plt.show()\n",
    "\n",
    "df['Fare'].hist(bins=30, color='salmon')\n",
    "plt.title(\"Fare Distribution\")\n",
    "plt.xlabel(\"Fare\")\n",
    "plt.show()"
   ]
  },
  {
   "cell_type": "markdown",
   "id": "f49f0ae7",
   "metadata": {},
   "source": [
    "## 🧼 Data Cleaning - Handling Missing Values\n",
    "We noticed missing values in `Age`, `Cabin`, and `Embarked`. Let's fix that:\n",
    "- Drop `Cabin` (too sparse)\n",
    "- Fill `Age` with median\n",
    "- Fill `Embarked` with mode"
   ]
  },
  {
   "cell_type": "code",
   "execution_count": 75,
   "id": "990dc0d0",
   "metadata": {},
   "outputs": [
    {
     "name": "stderr",
     "output_type": "stream",
     "text": [
      "C:\\Users\\Ridhwan Salim\\AppData\\Local\\Temp\\ipykernel_16016\\1758177899.py:2: FutureWarning: A value is trying to be set on a copy of a DataFrame or Series through chained assignment using an inplace method.\n",
      "The behavior will change in pandas 3.0. This inplace method will never work because the intermediate object on which we are setting values always behaves as a copy.\n",
      "\n",
      "For example, when doing 'df[col].method(value, inplace=True)', try using 'df.method({col: value}, inplace=True)' or df[col] = df[col].method(value) instead, to perform the operation inplace on the original object.\n",
      "\n",
      "\n",
      "  df['Age'].fillna(df['Age'].median(), inplace=True)\n",
      "C:\\Users\\Ridhwan Salim\\AppData\\Local\\Temp\\ipykernel_16016\\1758177899.py:3: FutureWarning: A value is trying to be set on a copy of a DataFrame or Series through chained assignment using an inplace method.\n",
      "The behavior will change in pandas 3.0. This inplace method will never work because the intermediate object on which we are setting values always behaves as a copy.\n",
      "\n",
      "For example, when doing 'df[col].method(value, inplace=True)', try using 'df.method({col: value}, inplace=True)' or df[col] = df[col].method(value) instead, to perform the operation inplace on the original object.\n",
      "\n",
      "\n",
      "  df['Embarked'].fillna(df['Embarked'].mode()[0], inplace=True)\n"
     ]
    }
   ],
   "source": [
    "df.drop('Cabin', axis=1, inplace=True)\n",
    "df['Age'].fillna(df['Age'].median(), inplace=True)\n",
    "df['Embarked'].fillna(df['Embarked'].mode()[0], inplace=True)"
   ]
  },
  {
   "cell_type": "markdown",
   "id": "a7a53cd7",
   "metadata": {},
   "source": [
    "## 🔡 Encoding Categorical Variables\n",
    "We need to convert `Sex` and `Embarked` to numerical format for model input."
   ]
  },
  {
   "cell_type": "code",
   "execution_count": 76,
   "id": "09e78e47",
   "metadata": {},
   "outputs": [],
   "source": [
    "df['Sex'] = df['Sex'].map({'male': 0, 'female': 1})\n",
    "df = pd.get_dummies(df, columns=['Embarked'], drop_first=True)"
   ]
  },
  {
   "cell_type": "markdown",
   "id": "93ee0cff",
   "metadata": {},
   "source": [
    "## 🧹 Dropping Irrelevant Columns\n",
    "Features like `PassengerId`, `Name`, and `Ticket` don’t contribute much to the prediction."
   ]
  },
  {
   "cell_type": "code",
   "execution_count": 77,
   "id": "6feece8f",
   "metadata": {},
   "outputs": [],
   "source": [
    "df.drop(['PassengerId', 'Name', 'Ticket'], axis=1, inplace=True)"
   ]
  },
  {
   "cell_type": "markdown",
   "id": "7a1e32c9",
   "metadata": {},
   "source": [
    "## 🧪 Train-Test Split\n",
    "We’ll now split the dataset into features (X) and target (y), then train-test split."
   ]
  },
  {
   "cell_type": "code",
   "execution_count": 78,
   "id": "b303836b",
   "metadata": {},
   "outputs": [],
   "source": [
    "from sklearn.model_selection import train_test_split\n",
    "\n",
    "X = df.drop('Survived', axis=1)\n",
    "y = df['Survived']\n",
    "\n",
    "X_train, X_test, y_train, y_test = train_test_split(X, y, test_size=0.2, random_state=42)"
   ]
  },
  {
   "cell_type": "markdown",
   "id": "cc265804",
   "metadata": {},
   "source": [
    "## 🤖 Model Training - Logistic Regression\n",
    "We’ll train a logistic regression model to classify whether a passenger survived the Titanic disaster."
   ]
  },
  {
   "cell_type": "code",
   "execution_count": 79,
   "id": "2d50230a",
   "metadata": {},
   "outputs": [],
   "source": [
    "from sklearn.linear_model import LogisticRegression\n",
    "from sklearn.metrics import accuracy_score, confusion_matrix, classification_report\n",
    "\n",
    "model = LogisticRegression(max_iter=1000)\n",
    "model.fit(X_train, y_train)\n",
    "\n",
    "y_pred = model.predict(X_test)"
   ]
  },
  {
   "cell_type": "markdown",
   "id": "e5d95cfd",
   "metadata": {},
   "source": [
    "## 📊 Model Evaluation\n",
    "We’ll evaluate the model using accuracy, confusion matrix, and classification report."
   ]
  },
  {
   "cell_type": "code",
   "execution_count": 80,
   "id": "c6ac18f3",
   "metadata": {},
   "outputs": [
    {
     "name": "stdout",
     "output_type": "stream",
     "text": [
      "Accuracy: 0.81\n",
      "Confusion Matrix:\n",
      " [[90 15]\n",
      " [19 55]]\n",
      "Classification Report:\n",
      "               precision    recall  f1-score   support\n",
      "\n",
      "           0       0.83      0.86      0.84       105\n",
      "           1       0.79      0.74      0.76        74\n",
      "\n",
      "    accuracy                           0.81       179\n",
      "   macro avg       0.81      0.80      0.80       179\n",
      "weighted avg       0.81      0.81      0.81       179\n",
      "\n"
     ]
    }
   ],
   "source": [
    "# Accuracy\n",
    "acc = accuracy_score(y_test, y_pred)\n",
    "print(f\"Accuracy: {acc:.2f}\")\n",
    "\n",
    "# Confusion matrix\n",
    "cm = confusion_matrix(y_test, y_pred)\n",
    "print(\"Confusion Matrix:\\n\", cm)\n",
    "\n",
    "# Classification report\n",
    "cr = classification_report(y_test, y_pred)\n",
    "print(\"Classification Report:\\n\", cr)"
   ]
  },
  {
   "cell_type": "markdown",
   "id": "d25a35a5",
   "metadata": {},
   "source": [
    "## 🔍 Confusion Matrix Visualization\n",
    "A heatmap of the confusion matrix helps visually understand model performance."
   ]
  },
  {
   "cell_type": "code",
   "execution_count": 81,
   "id": "ae28f79b",
   "metadata": {},
   "outputs": [
    {
     "data": {
      "image/png": "[encoded data removed]",
      "text/plain": [
       "<Figure size 640x480 with 2 Axes>"
      ]
     },
     "metadata": {},
     "output_type": "display_data"
    }
   ],
   "source": [
    "sns.heatmap(cm, annot=True, fmt='d', cmap='Blues')\n",
    "plt.xlabel('Predicted')\n",
    "plt.ylabel('Actual')\n",
    "plt.title('Confusion Matrix')\n",
    "plt.show()"
   ]
  },
  {
   "cell_type": "markdown",
   "id": "fd0cdf13",
   "metadata": {},
   "source": [
    "# Project 3: Logistic Regression on Titanic Dataset"
   ]
  },
  {
   "cell_type": "markdown",
   "id": "fb1e6188",
   "metadata": {},
   "source": [
    "This project applies logistic regression to predict passenger survival on the Titanic dataset using features like age, sex, and class."
   ]
  },
  {
   "cell_type": "markdown",
   "id": "83520943",
   "metadata": {},
   "source": [
    "- Source: [Kaggle Titanic: Machine Learning from Disaster](https://www.kaggle.com/competitions/titanic)\n",
    "- Features used: Pclass, Sex, Age, SibSp, Parch, Fare, Embarked\n",
    "- Target: Survived (0 = No, 1 = Yes)"
   ]
  },
  {
   "cell_type": "markdown",
   "id": "8f2ef20d",
   "metadata": {},
   "source": [
    "1. Data Cleaning: Handled missing values in Age and Embarked.\n",
    "2. Feature Engineering: Converted categorical variables into numeric.\n",
    "3. Model: Logistic Regression using Scikit-learn.\n",
    "4. Evaluation: Accuracy, Confusion Matrix, Precision, Recall, F1-Score."
   ]
  },
  {
   "cell_type": "markdown",
   "id": "0eb66ab1",
   "metadata": {},
   "source": [
    "- **Accuracy**: 0.81\n",
    "- **Confusion Matrix**:\n",
    "    ```\n",
    "    [[90 15]\n",
    "     [19 55]]\n",
    "    ```\n",
    "- **Classification Report**:\n",
    "    ```\n",
    "                  precision    recall  f1-score   support\n",
    "\n",
    "           0       0.83      0.86      0.84       105\n",
    "           1       0.79      0.74      0.76        74\n",
    "\n",
    "    accuracy                           0.81       179\n",
    "    macro avg       0.81      0.80      0.80       179\n",
    "    weighted avg    0.81      0.81      0.81       179\n",
    "    ```"
   ]
  },
  {
   "cell_type": "markdown",
   "id": "438cf443",
   "metadata": {},
   "source": [
    "![Confusion Matrix](image.png)"
   ]
  },
  {
   "cell_type": "markdown",
   "id": "da006b63",
   "metadata": {},
   "source": [
    "- Logistic Regression is highly interpretable and efficient for binary classification.\n",
    "- The model performed well on this dataset with an accuracy of 81%.\n",
    "- Feature selection and handling missing values played a key role in boosting performance."
   ]
  },
  {
   "cell_type": "markdown",
   "id": "c7610c30",
   "metadata": {},
   "source": [
    "- Try hyperparameter tuning or ensemble methods.\n",
    "- Add more features or engineer interactions between variables.\n",
    "- Handle class imbalance more effectively if needed."
   ]
  }
 ],
 "metadata": {
  "kernelspec": {
   "display_name": ".venv",
   "language": "python",
   "name": "python3"
  },
  "language_info": {
   "codemirror_mode": {
    "name": "ipython",
    "version": 3
   },
   "file_extension": ".py",
   "mimetype": "text/x-python",
   "name": "python",
   "nbconvert_exporter": "python",
   "pygments_lexer": "ipython3",
   "version": "3.13.2"
  }
 },
 "nbformat": 4,
 "nbformat_minor": 5
}
